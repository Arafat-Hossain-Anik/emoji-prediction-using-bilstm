{
 "cells": [
  {
   "cell_type": "code",
   "execution_count": 1,
   "id": "b9c16cef",
   "metadata": {},
   "outputs": [],
   "source": [
    "import emoji\n",
    "import pandas as pd\n",
    "import numpy as np"
   ]
  },
  {
   "cell_type": "code",
   "execution_count": 2,
   "id": "91208bed",
   "metadata": {},
   "outputs": [],
   "source": [
    "emoji_dict = {      \"0\": \"\\u2764\\uFE0F\",    \n",
    "                    \"1\": \":baseball:\",\n",
    "                    \"2\": \":beaming_face_with_smiling_eyes:\",\n",
    "                    \"3\": \":downcast_face_with_sweat:\",\n",
    "                    \"4\": \":fork_and_knife:\",\n",
    "                   }"
   ]
  },
  {
   "cell_type": "code",
   "execution_count": 3,
   "id": "97964aeb",
   "metadata": {},
   "outputs": [
    {
     "name": "stdout",
     "output_type": "stream",
     "text": [
      "❤️\n",
      "⚾\n",
      "😁\n",
      "😓\n",
      "🍴\n"
     ]
    }
   ],
   "source": [
    "for e in emoji_dict.values():\n",
    "    print(emoji.emojize(e))"
   ]
  },
  {
   "cell_type": "code",
   "execution_count": 4,
   "id": "f3af5c2d",
   "metadata": {},
   "outputs": [],
   "source": [
    "fullData = pd.read_csv(\"Data_Copy/train_emoji.csv\", header=None)"
   ]
  },
  {
   "cell_type": "code",
   "execution_count": 5,
   "id": "9fcca8e9",
   "metadata": {},
   "outputs": [
    {
     "data": {
      "text/html": [
       "<div>\n",
       "<style scoped>\n",
       "    .dataframe tbody tr th:only-of-type {\n",
       "        vertical-align: middle;\n",
       "    }\n",
       "\n",
       "    .dataframe tbody tr th {\n",
       "        vertical-align: top;\n",
       "    }\n",
       "\n",
       "    .dataframe thead th {\n",
       "        text-align: right;\n",
       "    }\n",
       "</style>\n",
       "<table border=\"1\" class=\"dataframe\">\n",
       "  <thead>\n",
       "    <tr style=\"text-align: right;\">\n",
       "      <th></th>\n",
       "      <th>0</th>\n",
       "      <th>1</th>\n",
       "    </tr>\n",
       "  </thead>\n",
       "  <tbody>\n",
       "    <tr>\n",
       "      <th>0</th>\n",
       "      <td>never talk to me again</td>\n",
       "      <td>3</td>\n",
       "    </tr>\n",
       "    <tr>\n",
       "      <th>1</th>\n",
       "      <td>I am proud of your achievements</td>\n",
       "      <td>2</td>\n",
       "    </tr>\n",
       "    <tr>\n",
       "      <th>2</th>\n",
       "      <td>It is the worst day in my life</td>\n",
       "      <td>3</td>\n",
       "    </tr>\n",
       "    <tr>\n",
       "      <th>3</th>\n",
       "      <td>Miss you so much</td>\n",
       "      <td>3</td>\n",
       "    </tr>\n",
       "    <tr>\n",
       "      <th>4</th>\n",
       "      <td>food is life</td>\n",
       "      <td>4</td>\n",
       "    </tr>\n",
       "  </tbody>\n",
       "</table>\n",
       "</div>"
      ],
      "text/plain": [
       "                                 0  1\n",
       "0           never talk to me again  3\n",
       "1  I am proud of your achievements  2\n",
       "2   It is the worst day in my life  3\n",
       "3                 Miss you so much  3\n",
       "4                     food is life  4"
      ]
     },
     "execution_count": 5,
     "metadata": {},
     "output_type": "execute_result"
    }
   ],
   "source": [
    "fullData.head()"
   ]
  },
  {
   "cell_type": "code",
   "execution_count": 6,
   "id": "546df193",
   "metadata": {},
   "outputs": [],
   "source": [
    "TextData=fullData[0].values\n",
    "LabelData=fullData[1].values"
   ]
  },
  {
   "cell_type": "code",
   "execution_count": 7,
   "id": "8d1f9f5a",
   "metadata": {},
   "outputs": [
    {
     "data": {
      "text/plain": [
       "'never talk to me again'"
      ]
     },
     "execution_count": 7,
     "metadata": {},
     "output_type": "execute_result"
    }
   ],
   "source": [
    "TextData[0]"
   ]
  },
  {
   "cell_type": "code",
   "execution_count": 8,
   "id": "6037980d",
   "metadata": {},
   "outputs": [
    {
     "data": {
      "text/plain": [
       "array([3, 2, 3, 3, 4], dtype=int64)"
      ]
     },
     "execution_count": 8,
     "metadata": {},
     "output_type": "execute_result"
    }
   ],
   "source": [
    "LabelData[:5]"
   ]
  },
  {
   "cell_type": "code",
   "execution_count": 9,
   "id": "056a5d0f",
   "metadata": {},
   "outputs": [],
   "source": [
    "# for sent,label in zip(TextData,LabelData):\n",
    "#     print(sent,label)\n",
    "#     print(emoji.emojize(emoji_dict[str(label)]))"
   ]
  },
  {
   "cell_type": "code",
   "execution_count": 10,
   "id": "ea6f5f1f",
   "metadata": {},
   "outputs": [
    {
     "data": {
      "text/plain": [
       "(135,)"
      ]
     },
     "execution_count": 10,
     "metadata": {},
     "output_type": "execute_result"
    }
   ],
   "source": [
    "TextData.shape"
   ]
  },
  {
   "cell_type": "code",
   "execution_count": 11,
   "id": "aef95b0a",
   "metadata": {},
   "outputs": [
    {
     "data": {
      "text/plain": [
       "(135,)"
      ]
     },
     "execution_count": 11,
     "metadata": {},
     "output_type": "execute_result"
    }
   ],
   "source": [
    "LabelData.shape"
   ]
  },
  {
   "cell_type": "markdown",
   "id": "56172109",
   "metadata": {},
   "source": [
    "# Word Embeddings"
   ]
  },
  {
   "cell_type": "code",
   "execution_count": 13,
   "id": "20ae4457",
   "metadata": {},
   "outputs": [],
   "source": [
    "file = open(\"glove.6B.300d.txt\", encoding='utf8')"
   ]
  },
  {
   "cell_type": "code",
   "execution_count": 14,
   "id": "2bf4446b",
   "metadata": {},
   "outputs": [],
   "source": [
    "embedding_index = {}\n",
    "for line in file:\n",
    "    \n",
    "    values = line.split()\n",
    "    word = values[0]\n",
    "    embedValues = np.array(values[1:], dtype='float')\n",
    "    \n",
    "    embedding_index[word] = embedValues"
   ]
  },
  {
   "cell_type": "code",
   "execution_count": 15,
   "id": "5e77fc41",
   "metadata": {},
   "outputs": [],
   "source": [
    "# embedding_index['not']"
   ]
  },
  {
   "cell_type": "code",
   "execution_count": 16,
   "id": "51e06997",
   "metadata": {},
   "outputs": [
    {
     "data": {
      "text/plain": [
       "(300,)"
      ]
     },
     "execution_count": 16,
     "metadata": {},
     "output_type": "execute_result"
    }
   ],
   "source": [
    "embedding_index['not'].shape"
   ]
  },
  {
   "cell_type": "code",
   "execution_count": 17,
   "id": "5da5dde8",
   "metadata": {},
   "outputs": [],
   "source": [
    "# len(embedding_index)"
   ]
  },
  {
   "cell_type": "code",
   "execution_count": 18,
   "id": "e2ca452f",
   "metadata": {},
   "outputs": [],
   "source": [
    "def get_embedding_output(X):\n",
    "    vocab_size=0\n",
    "    maxLen = 10\n",
    "    embedding_output = np.zeros((len(X), maxLen, 300))\n",
    "    \n",
    "    for ix in range(len(X)):\n",
    "        X[ix] = X[ix].split()\n",
    "        \n",
    "        for ij in range(len(X[ix])):\n",
    "            embedding_output[ix][ij] = embedding_index[X[ix][ij].lower()]\n",
    "            vocab_size = vocab_size+1\n",
    "    return embedding_output,vocab_size"
   ]
  },
  {
   "cell_type": "code",
   "execution_count": 19,
   "id": "b6ca82a9",
   "metadata": {},
   "outputs": [],
   "source": [
    "def get_embedding_for_testing(X):\n",
    "    file = open(\"glove.6B.300d.txt\", encoding='utf8')\n",
    "    embedding_index = {}\n",
    "    for line in file:\n",
    "\n",
    "        values = line.split()\n",
    "        word = values[0]\n",
    "        embedValues = np.array(values[1:], dtype='float')\n",
    "\n",
    "        embedding_index[word] = embedValues\n",
    "    maxLen = 10\n",
    "    embedding_output = np.zeros((len(X), maxLen, 300))\n",
    "    \n",
    "    for ix in range(len(X)):\n",
    "        X[ix] = X[ix].split()\n",
    "        \n",
    "        for ij in range(len(X[ix])):\n",
    "            embedding_output[ix][ij] = embedding_index[X[ix][ij].lower()]\n",
    "    return embedding_output"
   ]
  },
  {
   "cell_type": "code",
   "execution_count": 20,
   "id": "74439066",
   "metadata": {},
   "outputs": [
    {
     "name": "stdout",
     "output_type": "stream",
     "text": [
      "639\n"
     ]
    }
   ],
   "source": [
    "TextDataEmbeddings,vocab_size = get_embedding_output(TextData)\n",
    "print(vocab_size)"
   ]
  },
  {
   "cell_type": "code",
   "execution_count": 21,
   "id": "7aecf9dd",
   "metadata": {},
   "outputs": [
    {
     "data": {
      "text/plain": [
       "(135, 10, 300)"
      ]
     },
     "execution_count": 21,
     "metadata": {},
     "output_type": "execute_result"
    }
   ],
   "source": [
    "TextDataEmbeddings.shape"
   ]
  },
  {
   "cell_type": "code",
   "execution_count": 22,
   "id": "a9394120",
   "metadata": {},
   "outputs": [],
   "source": [
    "from keras.utils import to_categorical\n",
    "\n",
    "LabelData = to_categorical(LabelData)"
   ]
  },
  {
   "cell_type": "code",
   "execution_count": 23,
   "id": "e58def70",
   "metadata": {},
   "outputs": [
    {
     "data": {
      "text/plain": [
       "(135, 5)"
      ]
     },
     "execution_count": 23,
     "metadata": {},
     "output_type": "execute_result"
    }
   ],
   "source": [
    "LabelData.shape"
   ]
  },
  {
   "cell_type": "markdown",
   "id": "6edf6952",
   "metadata": {},
   "source": [
    "# Model Building"
   ]
  },
  {
   "cell_type": "code",
   "execution_count": 24,
   "id": "b46a7bc8",
   "metadata": {},
   "outputs": [],
   "source": [
    "from keras.models import Sequential\n",
    "from keras.layers import Dropout, Dense, LSTM, Bidirectional,Embedding, GlobalMaxPool1D\n",
    "# from keras.layers import Bidirectional, LeakyReLU"
   ]
  },
  {
   "cell_type": "code",
   "execution_count": 26,
   "id": "d4ed765f",
   "metadata": {},
   "outputs": [],
   "source": [
    "model = Sequential()\n",
    "model.add(Bidirectional(LSTM(80,return_sequences=True)))\n",
    "model.add(Bidirectional(LSTM(80,return_sequences=True)))\n",
    "model.add(GlobalMaxPool1D())\n",
    "model.add(Dropout(0.5))\n",
    "model.add(Dense(64, activation=\"relu\"))\n",
    "model.add(Dropout(0.5))\n",
    "model.add(Dense(20, activation=\"softmax\"))\n",
    "# model.summary()"
   ]
  },
  {
   "cell_type": "code",
   "execution_count": 32,
   "id": "82164934",
   "metadata": {},
   "outputs": [
    {
     "name": "stdout",
     "output_type": "stream",
     "text": [
      "Epoch 1/15\n"
     ]
    },
    {
     "ename": "ValueError",
     "evalue": "in user code:\n\n    File \"C:\\Users\\Arafat Hossain Anik\\AppData\\Roaming\\Python\\Python39\\site-packages\\keras\\engine\\training.py\", line 1160, in train_function  *\n        return step_function(self, iterator)\n    File \"C:\\Users\\Arafat Hossain Anik\\AppData\\Roaming\\Python\\Python39\\site-packages\\keras\\engine\\training.py\", line 1146, in step_function  **\n        outputs = model.distribute_strategy.run(run_step, args=(data,))\n    File \"C:\\Users\\Arafat Hossain Anik\\AppData\\Roaming\\Python\\Python39\\site-packages\\keras\\engine\\training.py\", line 1135, in run_step  **\n        outputs = model.train_step(data)\n    File \"C:\\Users\\Arafat Hossain Anik\\AppData\\Roaming\\Python\\Python39\\site-packages\\keras\\engine\\training.py\", line 994, in train_step\n        loss = self.compute_loss(x, y, y_pred, sample_weight)\n    File \"C:\\Users\\Arafat Hossain Anik\\AppData\\Roaming\\Python\\Python39\\site-packages\\keras\\engine\\training.py\", line 1052, in compute_loss\n        return self.compiled_loss(\n    File \"C:\\Users\\Arafat Hossain Anik\\AppData\\Roaming\\Python\\Python39\\site-packages\\keras\\engine\\compile_utils.py\", line 265, in __call__\n        loss_value = loss_obj(y_t, y_p, sample_weight=sw)\n    File \"C:\\Users\\Arafat Hossain Anik\\AppData\\Roaming\\Python\\Python39\\site-packages\\keras\\losses.py\", line 152, in __call__\n        losses = call_fn(y_true, y_pred)\n    File \"C:\\Users\\Arafat Hossain Anik\\AppData\\Roaming\\Python\\Python39\\site-packages\\keras\\losses.py\", line 272, in call  **\n        return ag_fn(y_true, y_pred, **self._fn_kwargs)\n    File \"C:\\Users\\Arafat Hossain Anik\\AppData\\Roaming\\Python\\Python39\\site-packages\\keras\\losses.py\", line 1990, in categorical_crossentropy\n        return backend.categorical_crossentropy(\n    File \"C:\\Users\\Arafat Hossain Anik\\AppData\\Roaming\\Python\\Python39\\site-packages\\keras\\backend.py\", line 5529, in categorical_crossentropy\n        target.shape.assert_is_compatible_with(output.shape)\n\n    ValueError: Shapes (None, 5) and (None, 20) are incompatible\n",
     "output_type": "error",
     "traceback": [
      "\u001b[1;31m---------------------------------------------------------------------------\u001b[0m",
      "\u001b[1;31mValueError\u001b[0m                                Traceback (most recent call last)",
      "Input \u001b[1;32mIn [32]\u001b[0m, in \u001b[0;36m<cell line: 20>\u001b[1;34m()\u001b[0m\n\u001b[0;32m     18\u001b[0m Y_train, Y_test \u001b[38;5;241m=\u001b[39m LabelData[train_index], LabelData[test_index]\n\u001b[0;32m     19\u001b[0m     \u001b[38;5;66;03m#run the model for every fold\u001b[39;00m\n\u001b[1;32m---> 20\u001b[0m \u001b[43mmodel\u001b[49m\u001b[38;5;241;43m.\u001b[39;49m\u001b[43mfit\u001b[49m\u001b[43m(\u001b[49m\u001b[43mX_train\u001b[49m\u001b[43m,\u001b[49m\u001b[43m \u001b[49m\u001b[43mY_train\u001b[49m\u001b[43m,\u001b[49m\u001b[43m \u001b[49m\u001b[43mbatch_size\u001b[49m\u001b[38;5;241;43m=\u001b[39;49m\u001b[43mbatch_size\u001b[49m\u001b[43m,\u001b[49m\u001b[43m \u001b[49m\u001b[43mepochs\u001b[49m\u001b[43m \u001b[49m\u001b[38;5;241;43m=\u001b[39;49m\u001b[43m \u001b[49m\u001b[43mepochs\u001b[49m\u001b[43m,\u001b[49m\u001b[43m \u001b[49m\n\u001b[0;32m     21\u001b[0m \u001b[43m          \u001b[49m\u001b[43mshuffle\u001b[49m\u001b[38;5;241;43m=\u001b[39;49m\u001b[38;5;28;43;01mTrue\u001b[39;49;00m\u001b[43m,\u001b[49m\u001b[43mvalidation_data\u001b[49m\u001b[38;5;241;43m=\u001b[39;49m\u001b[43m(\u001b[49m\u001b[43mX_test\u001b[49m\u001b[43m,\u001b[49m\u001b[43m \u001b[49m\u001b[43mY_test\u001b[49m\u001b[43m)\u001b[49m\u001b[43m)\u001b[49m\n\u001b[0;32m     22\u001b[0m score, acc \u001b[38;5;241m=\u001b[39m model\u001b[38;5;241m.\u001b[39mevaluate(X_test, Y_test, batch_size\u001b[38;5;241m=\u001b[39mbatch_size)\n\u001b[0;32m     23\u001b[0m \u001b[38;5;66;03m#     acc_scores.append(acc)\u001b[39;00m\n",
      "File \u001b[1;32m~\\AppData\\Roaming\\Python\\Python39\\site-packages\\keras\\utils\\traceback_utils.py:70\u001b[0m, in \u001b[0;36mfilter_traceback.<locals>.error_handler\u001b[1;34m(*args, **kwargs)\u001b[0m\n\u001b[0;32m     67\u001b[0m     filtered_tb \u001b[38;5;241m=\u001b[39m _process_traceback_frames(e\u001b[38;5;241m.\u001b[39m__traceback__)\n\u001b[0;32m     68\u001b[0m     \u001b[38;5;66;03m# To get the full stack trace, call:\u001b[39;00m\n\u001b[0;32m     69\u001b[0m     \u001b[38;5;66;03m# `tf.debugging.disable_traceback_filtering()`\u001b[39;00m\n\u001b[1;32m---> 70\u001b[0m     \u001b[38;5;28;01mraise\u001b[39;00m e\u001b[38;5;241m.\u001b[39mwith_traceback(filtered_tb) \u001b[38;5;28;01mfrom\u001b[39;00m \u001b[38;5;28mNone\u001b[39m\n\u001b[0;32m     71\u001b[0m \u001b[38;5;28;01mfinally\u001b[39;00m:\n\u001b[0;32m     72\u001b[0m     \u001b[38;5;28;01mdel\u001b[39;00m filtered_tb\n",
      "File \u001b[1;32mC:\\Users\\ARAFAT~1\\AppData\\Local\\Temp\\__autograph_generated_file5n1l6sy0.py:15\u001b[0m, in \u001b[0;36mouter_factory.<locals>.inner_factory.<locals>.tf__train_function\u001b[1;34m(iterator)\u001b[0m\n\u001b[0;32m     13\u001b[0m \u001b[38;5;28;01mtry\u001b[39;00m:\n\u001b[0;32m     14\u001b[0m     do_return \u001b[38;5;241m=\u001b[39m \u001b[38;5;28;01mTrue\u001b[39;00m\n\u001b[1;32m---> 15\u001b[0m     retval_ \u001b[38;5;241m=\u001b[39m ag__\u001b[38;5;241m.\u001b[39mconverted_call(ag__\u001b[38;5;241m.\u001b[39mld(step_function), (ag__\u001b[38;5;241m.\u001b[39mld(\u001b[38;5;28mself\u001b[39m), ag__\u001b[38;5;241m.\u001b[39mld(iterator)), \u001b[38;5;28;01mNone\u001b[39;00m, fscope)\n\u001b[0;32m     16\u001b[0m \u001b[38;5;28;01mexcept\u001b[39;00m:\n\u001b[0;32m     17\u001b[0m     do_return \u001b[38;5;241m=\u001b[39m \u001b[38;5;28;01mFalse\u001b[39;00m\n",
      "\u001b[1;31mValueError\u001b[0m: in user code:\n\n    File \"C:\\Users\\Arafat Hossain Anik\\AppData\\Roaming\\Python\\Python39\\site-packages\\keras\\engine\\training.py\", line 1160, in train_function  *\n        return step_function(self, iterator)\n    File \"C:\\Users\\Arafat Hossain Anik\\AppData\\Roaming\\Python\\Python39\\site-packages\\keras\\engine\\training.py\", line 1146, in step_function  **\n        outputs = model.distribute_strategy.run(run_step, args=(data,))\n    File \"C:\\Users\\Arafat Hossain Anik\\AppData\\Roaming\\Python\\Python39\\site-packages\\keras\\engine\\training.py\", line 1135, in run_step  **\n        outputs = model.train_step(data)\n    File \"C:\\Users\\Arafat Hossain Anik\\AppData\\Roaming\\Python\\Python39\\site-packages\\keras\\engine\\training.py\", line 994, in train_step\n        loss = self.compute_loss(x, y, y_pred, sample_weight)\n    File \"C:\\Users\\Arafat Hossain Anik\\AppData\\Roaming\\Python\\Python39\\site-packages\\keras\\engine\\training.py\", line 1052, in compute_loss\n        return self.compiled_loss(\n    File \"C:\\Users\\Arafat Hossain Anik\\AppData\\Roaming\\Python\\Python39\\site-packages\\keras\\engine\\compile_utils.py\", line 265, in __call__\n        loss_value = loss_obj(y_t, y_p, sample_weight=sw)\n    File \"C:\\Users\\Arafat Hossain Anik\\AppData\\Roaming\\Python\\Python39\\site-packages\\keras\\losses.py\", line 152, in __call__\n        losses = call_fn(y_true, y_pred)\n    File \"C:\\Users\\Arafat Hossain Anik\\AppData\\Roaming\\Python\\Python39\\site-packages\\keras\\losses.py\", line 272, in call  **\n        return ag_fn(y_true, y_pred, **self._fn_kwargs)\n    File \"C:\\Users\\Arafat Hossain Anik\\AppData\\Roaming\\Python\\Python39\\site-packages\\keras\\losses.py\", line 1990, in categorical_crossentropy\n        return backend.categorical_crossentropy(\n    File \"C:\\Users\\Arafat Hossain Anik\\AppData\\Roaming\\Python\\Python39\\site-packages\\keras\\backend.py\", line 5529, in categorical_crossentropy\n        target.shape.assert_is_compatible_with(output.shape)\n\n    ValueError: Shapes (None, 5) and (None, 20) are incompatible\n"
     ]
    }
   ],
   "source": [
    "from sklearn.model_selection import KFold\n",
    "from tensorflow.keras.callbacks import EarlyStopping\n",
    "early_stop = EarlyStopping(monitor=\"val_loss\", mode=\"min\", patience=0,verbose=1)\n",
    "model.compile(loss = 'categorical_crossentropy',optimizer = \"adam\",metrics=[\"accuracy\"])\n",
    "\n",
    "batch_size=64\n",
    "epochs = 15\n",
    "\n",
    "# model.fit(X_train, y_train, batch_size=batch_size, epochs = epochs, \n",
    "#           shuffle=True,validation_data=(X_test, y_test), callbacks=[early_stop])\n",
    "\n",
    "# checkpoint = ModelCheckpoint(\"bilstm_model.h5\", monitor='loss', verbose=1, save_best_only=True)\n",
    "# k = 7\n",
    "# kf = KFold(n_splits=k)\n",
    "# acc_scores = []\n",
    "# for train_index, test_index in kf.split(TextDataEmbeddings):\n",
    "X_train, X_test = TextDataEmbeddings[train_index], TextDataEmbeddings[test_index]\n",
    "Y_train, Y_test = LabelData[train_index], LabelData[test_index]\n",
    "    #run the model for every fold\n",
    "model.fit(X_train, Y_train, batch_size=batch_size, epochs = epochs,shuffle=True,\n",
    "          validation_data=(X_test, Y_test),callbacks=[early_stop])\n",
    "score, acc = model.evaluate(X_test, Y_test, batch_size=batch_size)\n",
    "#     acc_scores.append(acc)\n",
    "print('Validation accuracy:', acc)"
   ]
  },
  {
   "cell_type": "code",
   "execution_count": 55,
   "id": "e453184a",
   "metadata": {},
   "outputs": [
    {
     "name": "stdout",
     "output_type": "stream",
     "text": [
      "Average validation accuracy: 0.9642857142857143\n"
     ]
    }
   ],
   "source": [
    "avg_acc = np.mean(acc_scores)\n",
    "print('Average validation accuracy:', avg_acc)"
   ]
  },
  {
   "cell_type": "markdown",
   "id": "815bf1df",
   "metadata": {},
   "source": [
    "# Custom Example Prediction"
   ]
  },
  {
   "cell_type": "code",
   "execution_count": 148,
   "id": "21b65a22",
   "metadata": {},
   "outputs": [],
   "source": [
    "def getCustomTextOutput(x_query):\n",
    "    embedding_x_query = []\n",
    "\n",
    "    for w in x_query.split():\n",
    "        emb = embedding_index[w]\n",
    "        embedding_x_query.append(emb)\n",
    "        \n",
    "    embedding_x_query = np.array(embedding_x_query)\n",
    "    \n",
    "    if embedding_x_query.shape[0]:\n",
    "        embedding_x_query = np.vstack((embedding_x_query , np.zeros((10 - len(x_query.split()), 300))))\n",
    "    \n",
    "    embedding_x_query = embedding_x_query.reshape(1, 10, 300)\n",
    "    \n",
    "    p = model.predict(embedding_x_query)\n",
    "    p = np.argmax(p,axis=1)\n",
    "    print(\"Given Sentence: \",x_query,\"\\nPredicted Emoji: \",emoji.emojize(emoji_dict[str(p[0])]))"
   ]
  },
  {
   "cell_type": "code",
   "execution_count": 109,
   "id": "d7229c5d",
   "metadata": {},
   "outputs": [
    {
     "name": "stdout",
     "output_type": "stream",
     "text": [
      "love\n"
     ]
    }
   ],
   "source": [
    "x_query = input().lower() "
   ]
  },
  {
   "cell_type": "code",
   "execution_count": 110,
   "id": "31c8ea29",
   "metadata": {},
   "outputs": [
    {
     "name": "stdout",
     "output_type": "stream",
     "text": [
      "WARNING:tensorflow:5 out of the last 5 calls to <function Model.make_predict_function.<locals>.predict_function at 0x000001E4D75D59D0> triggered tf.function retracing. Tracing is expensive and the excessive number of tracings could be due to (1) creating @tf.function repeatedly in a loop, (2) passing tensors with different shapes, (3) passing Python objects instead of tensors. For (1), please define your @tf.function outside of the loop. For (2), @tf.function has reduce_retracing=True option that can avoid unnecessary retracing. For (3), please refer to https://www.tensorflow.org/guide/function#controlling_retracing and https://www.tensorflow.org/api_docs/python/tf/function for  more details.\n",
      "1/1 [==============================] - 2s 2s/step\n",
      "Given Sentence:  love \n",
      "Predicted Emoji:  ❤️\n"
     ]
    }
   ],
   "source": [
    "getCustomTextOutput(x_query)"
   ]
  },
  {
   "cell_type": "markdown",
   "id": "e04d1b90",
   "metadata": {},
   "source": [
    "# Load saved Model"
   ]
  },
  {
   "cell_type": "code",
   "execution_count": 56,
   "id": "b7aa4878",
   "metadata": {},
   "outputs": [
    {
     "name": "stdout",
     "output_type": "stream",
     "text": [
      "Model: \"sequential_2\"\n",
      "_________________________________________________________________\n",
      " Layer (type)                Output Shape              Param #   \n",
      "=================================================================\n",
      " bidirectional_4 (Bidirectio  (None, 10, 128)          186880    \n",
      " nal)                                                            \n",
      "                                                                 \n",
      " dropout_4 (Dropout)         (None, 10, 128)           0         \n",
      "                                                                 \n",
      " bidirectional_5 (Bidirectio  (None, 128)              98816     \n",
      " nal)                                                            \n",
      "                                                                 \n",
      " dropout_5 (Dropout)         (None, 128)               0         \n",
      "                                                                 \n",
      " dense_6 (Dense)             (None, 10)                1290      \n",
      "                                                                 \n",
      " dense_7 (Dense)             (None, 5)                 55        \n",
      "                                                                 \n",
      "=================================================================\n",
      "Total params: 287,041\n",
      "Trainable params: 287,041\n",
      "Non-trainable params: 0\n",
      "_________________________________________________________________\n"
     ]
    }
   ],
   "source": [
    "# from tensorflow.keras.models import load_model\n",
    "\n",
    "# # Load the model and tokenizer\n",
    "# model = load_model('bilstm_model.h5')\n",
    "# model.summary()"
   ]
  },
  {
   "cell_type": "markdown",
   "id": "d5d6db9c",
   "metadata": {},
   "source": [
    "# Test File"
   ]
  },
  {
   "cell_type": "code",
   "execution_count": 57,
   "id": "dfa78cb7",
   "metadata": {},
   "outputs": [],
   "source": [
    "test_data =  pd.read_csv(\"Data_Copy/test_emoji.csv\", header=None)"
   ]
  },
  {
   "cell_type": "code",
   "execution_count": 58,
   "id": "5e198d61",
   "metadata": {},
   "outputs": [
    {
     "data": {
      "text/html": [
       "<div>\n",
       "<style scoped>\n",
       "    .dataframe tbody tr th:only-of-type {\n",
       "        vertical-align: middle;\n",
       "    }\n",
       "\n",
       "    .dataframe tbody tr th {\n",
       "        vertical-align: top;\n",
       "    }\n",
       "\n",
       "    .dataframe thead th {\n",
       "        text-align: right;\n",
       "    }\n",
       "</style>\n",
       "<table border=\"1\" class=\"dataframe\">\n",
       "  <thead>\n",
       "    <tr style=\"text-align: right;\">\n",
       "      <th></th>\n",
       "      <th>0</th>\n",
       "      <th>1</th>\n",
       "    </tr>\n",
       "  </thead>\n",
       "  <tbody>\n",
       "    <tr>\n",
       "      <th>0</th>\n",
       "      <td>I want to eat\\t</td>\n",
       "      <td>4</td>\n",
       "    </tr>\n",
       "    <tr>\n",
       "      <th>1</th>\n",
       "      <td>he did not answer\\t</td>\n",
       "      <td>3</td>\n",
       "    </tr>\n",
       "    <tr>\n",
       "      <th>2</th>\n",
       "      <td>he got a raise\\t</td>\n",
       "      <td>2</td>\n",
       "    </tr>\n",
       "    <tr>\n",
       "      <th>3</th>\n",
       "      <td>she got me a present\\t</td>\n",
       "      <td>0</td>\n",
       "    </tr>\n",
       "    <tr>\n",
       "      <th>4</th>\n",
       "      <td>ha ha ha it was so funny\\t</td>\n",
       "      <td>2</td>\n",
       "    </tr>\n",
       "  </tbody>\n",
       "</table>\n",
       "</div>"
      ],
      "text/plain": [
       "                            0  1\n",
       "0             I want to eat\\t  4\n",
       "1         he did not answer\\t  3\n",
       "2            he got a raise\\t  2\n",
       "3      she got me a present\\t  0\n",
       "4  ha ha ha it was so funny\\t  2"
      ]
     },
     "execution_count": 58,
     "metadata": {},
     "output_type": "execute_result"
    }
   ],
   "source": [
    "test_data.head()"
   ]
  },
  {
   "cell_type": "code",
   "execution_count": 59,
   "id": "41df4a82",
   "metadata": {},
   "outputs": [],
   "source": [
    "test_data.columns = ['Text', 'Label']\n",
    "x_test = test_data['Text'].values\n",
    "y_test = test_data['Label'].values"
   ]
  },
  {
   "cell_type": "code",
   "execution_count": 60,
   "id": "c00b013e",
   "metadata": {},
   "outputs": [
    {
     "data": {
      "text/plain": [
       "(56,)"
      ]
     },
     "execution_count": 60,
     "metadata": {},
     "output_type": "execute_result"
    }
   ],
   "source": [
    "x_test.shape"
   ]
  },
  {
   "cell_type": "code",
   "execution_count": 61,
   "id": "3351a970",
   "metadata": {},
   "outputs": [],
   "source": [
    "test_embeddings = get_embedding_for_testing(x_test)"
   ]
  },
  {
   "cell_type": "code",
   "execution_count": 62,
   "id": "65e3b7cb",
   "metadata": {},
   "outputs": [
    {
     "data": {
      "text/plain": [
       "(56, 10, 300)"
      ]
     },
     "execution_count": 62,
     "metadata": {},
     "output_type": "execute_result"
    }
   ],
   "source": [
    "test_embeddings.shape"
   ]
  },
  {
   "cell_type": "code",
   "execution_count": 63,
   "id": "1b5c692e",
   "metadata": {},
   "outputs": [],
   "source": [
    "# from keras.utils import to_categorical\n",
    "y_test = to_categorical(y_test)"
   ]
  },
  {
   "cell_type": "code",
   "execution_count": 64,
   "id": "e54d2da6",
   "metadata": {},
   "outputs": [
    {
     "data": {
      "text/plain": [
       "(56, 5)"
      ]
     },
     "execution_count": 64,
     "metadata": {},
     "output_type": "execute_result"
    }
   ],
   "source": [
    "y_test.shape"
   ]
  },
  {
   "cell_type": "code",
   "execution_count": 65,
   "id": "01057093",
   "metadata": {},
   "outputs": [
    {
     "name": "stdout",
     "output_type": "stream",
     "text": [
      "2/2 [==============================] - 3s 25ms/step - loss: 1.1445 - accuracy: 0.8036\n"
     ]
    },
    {
     "data": {
      "text/plain": [
       "[1.1445006132125854, 0.8035714030265808]"
      ]
     },
     "execution_count": 65,
     "metadata": {},
     "output_type": "execute_result"
    }
   ],
   "source": [
    "model.evaluate(test_embeddings, y_test)"
   ]
  },
  {
   "cell_type": "code",
   "execution_count": 66,
   "id": "777ad988",
   "metadata": {},
   "outputs": [
    {
     "name": "stdout",
     "output_type": "stream",
     "text": [
      "2/2 [==============================] - 2s 22ms/step\n"
     ]
    }
   ],
   "source": [
    "pred = model.predict(test_embeddings)\n",
    "pred=np.argmax(pred,axis=1)"
   ]
  },
  {
   "cell_type": "code",
   "execution_count": 67,
   "id": "90dfa9bc",
   "metadata": {},
   "outputs": [
    {
     "data": {
      "text/plain": [
       "array([4, 3, 2, 0, 2, 0, 3, 0, 4, 2, 1, 3, 3, 2, 1, 3, 3, 0, 3, 4, 0, 3,\n",
       "       4, 3, 3, 3, 2, 0, 1, 3, 3, 1, 2, 2, 3, 1, 2, 4, 4, 2, 2, 0, 3, 1,\n",
       "       2, 1, 3, 2, 2, 3, 3, 0, 3, 2, 3, 4], dtype=int64)"
      ]
     },
     "execution_count": 67,
     "metadata": {},
     "output_type": "execute_result"
    }
   ],
   "source": [
    "pred"
   ]
  },
  {
   "cell_type": "code",
   "execution_count": 68,
   "id": "5a77d42e",
   "metadata": {},
   "outputs": [],
   "source": [
    "# x_test"
   ]
  },
  {
   "cell_type": "code",
   "execution_count": 69,
   "id": "0c462c21",
   "metadata": {},
   "outputs": [],
   "source": [
    "y_testing = test_data['Label'].values"
   ]
  },
  {
   "cell_type": "code",
   "execution_count": 70,
   "id": "875c3811",
   "metadata": {},
   "outputs": [
    {
     "data": {
      "text/plain": [
       "array([4, 3, 2, 0, 2, 0, 3, 4, 4, 2, 1, 3, 3, 2, 1, 3, 3, 0, 3, 4, 0, 2,\n",
       "       4, 3, 3, 3, 3, 0, 2, 0, 3, 1, 3, 2, 0, 1, 2, 4, 4, 2, 2, 0, 3, 1,\n",
       "       2, 0, 0, 2, 2, 3, 3, 0, 3, 2, 2, 3], dtype=int64)"
      ]
     },
     "execution_count": 70,
     "metadata": {},
     "output_type": "execute_result"
    }
   ],
   "source": [
    "y_testing"
   ]
  },
  {
   "cell_type": "code",
   "execution_count": 71,
   "id": "b35963da",
   "metadata": {},
   "outputs": [
    {
     "name": "stdout",
     "output_type": "stream",
     "text": [
      "I want to eat\n",
      "Actual : 🍴\n",
      "Prediction : 🍴\n",
      "he did not answer\n",
      "Actual : 😓\n",
      "Prediction : 😓\n",
      "he got a raise\n",
      "Actual : 😁\n",
      "Prediction : 😁\n",
      "she got me a present\n",
      "Actual : ❤️\n",
      "Prediction : ❤️\n",
      "ha ha ha it was so funny\n",
      "Actual : 😁\n",
      "Prediction : 😁\n",
      "he is a good friend\n",
      "Actual : ❤️\n",
      "Prediction : ❤️\n",
      "I am upset\n",
      "Actual : 😓\n",
      "Prediction : 😓\n",
      "We had such a lovely dinner tonight\n",
      "Actual : 🍴\n",
      "Prediction : ❤️\n",
      "where is the food\n",
      "Actual : 🍴\n",
      "Prediction : 🍴\n",
      "Stop making this joke ha ha ha\n",
      "Actual : 😁\n",
      "Prediction : 😁\n",
      "where is the ball\n",
      "Actual : ⚾\n",
      "Prediction : ⚾\n",
      "work is hard\n",
      "Actual : 😓\n",
      "Prediction : 😓\n",
      "This girl is messing with me\n",
      "Actual : 😓\n",
      "Prediction : 😓\n",
      "are you serious ha ha\n",
      "Actual : 😁\n",
      "Prediction : 😁\n",
      "Let us go play baseball\n",
      "Actual : ⚾\n",
      "Prediction : ⚾\n",
      "This stupid grader is not working\n",
      "Actual : 😓\n",
      "Prediction : 😓\n",
      "work is horrible\n",
      "Actual : 😓\n",
      "Prediction : 😓\n",
      "Congratulation for having a baby\n",
      "Actual : ❤️\n",
      "Prediction : ❤️\n",
      "stop messing around\n",
      "Actual : 😓\n",
      "Prediction : 😓\n",
      "any suggestions for dinner\n",
      "Actual : 🍴\n",
      "Prediction : 🍴\n",
      "I love taking breaks\n",
      "Actual : ❤️\n",
      "Prediction : ❤️\n",
      "you brighten my day\n",
      "Actual : 😁\n",
      "Prediction : 😓\n",
      "I boiled rice\n",
      "Actual : 🍴\n",
      "Prediction : 🍴\n",
      "she is a bully\n",
      "Actual : 😓\n",
      "Prediction : 😓\n",
      "Why are you feeling bad\n",
      "Actual : 😓\n",
      "Prediction : 😓\n",
      "I am upset\n",
      "Actual : 😓\n",
      "Prediction : 😓\n",
      "I worked during my birthday\n",
      "Actual : 😓\n",
      "Prediction : 😁\n",
      "My grandmother is the love of my life\n",
      "Actual : ❤️\n",
      "Prediction : ❤️\n",
      "enjoy your break\n",
      "Actual : 😁\n",
      "Prediction : ⚾\n",
      "valentine day is near\n",
      "Actual : ❤️\n",
      "Prediction : 😓\n",
      "I miss you so much\n",
      "Actual : 😓\n",
      "Prediction : 😓\n",
      "throw the ball\n",
      "Actual : ⚾\n",
      "Prediction : ⚾\n",
      "My life is so boring\n",
      "Actual : 😓\n",
      "Prediction : 😁\n",
      "she said yes\n",
      "Actual : 😁\n",
      "Prediction : 😁\n",
      "will you be my valentine\n",
      "Actual : ❤️\n",
      "Prediction : 😓\n",
      "he can pitch really well\n",
      "Actual : ⚾\n",
      "Prediction : ⚾\n",
      "dance with me\n",
      "Actual : 😁\n",
      "Prediction : 😁\n",
      "I am starving\n",
      "Actual : 🍴\n",
      "Prediction : 🍴\n",
      "See you at the restaurant\n",
      "Actual : 🍴\n",
      "Prediction : 🍴\n",
      "I like to laugh\n",
      "Actual : 😁\n",
      "Prediction : 😁\n",
      "I will go dance\n",
      "Actual : 😁\n",
      "Prediction : 😁\n",
      "I like your jacket\n",
      "Actual : ❤️\n",
      "Prediction : ❤️\n",
      "i miss her\n",
      "Actual : 😓\n",
      "Prediction : 😓\n",
      "what is your favorite baseball game\n",
      "Actual : ⚾\n",
      "Prediction : ⚾\n",
      "Good job\n",
      "Actual : 😁\n",
      "Prediction : 😁\n",
      "I love to the stars and back\n",
      "Actual : ❤️\n",
      "Prediction : ⚾\n",
      "What you did was awesome\n",
      "Actual : ❤️\n",
      "Prediction : 😓\n",
      "ha ha ha lol\n",
      "Actual : 😁\n",
      "Prediction : 😁\n",
      "I want to joke\n",
      "Actual : 😁\n",
      "Prediction : 😁\n",
      "go away\n",
      "Actual : 😓\n",
      "Prediction : 😓\n",
      "yesterday we lost again\n",
      "Actual : 😓\n",
      "Prediction : 😓\n",
      "family is all I have\n",
      "Actual : ❤️\n",
      "Prediction : ❤️\n",
      "you are failing this exercise\n",
      "Actual : 😓\n",
      "Prediction : 😓\n",
      "Good joke\n",
      "Actual : 😁\n",
      "Prediction : 😁\n",
      "You totally deserve this prize\n",
      "Actual : 😁\n",
      "Prediction : 😓\n",
      "I did not have breakfast\n",
      "Actual : 😓\n",
      "Prediction : 🍴\n",
      "Total Right : 45 Among : 56\n"
     ]
    }
   ],
   "source": [
    "count=0\n",
    "for i in range(len(pred)):\n",
    "    \n",
    "    print(\" \".join(x_test[i]))\n",
    "    \n",
    "    emote = emoji_dict[str(pred[i])]\n",
    "    print('Actual :', emoji.emojize(emoji_dict[str(y_testing[i])]))\n",
    "    print('Prediction :',emoji.emojize(emote))\n",
    "    if(emoji.emojize(emoji_dict[str(y_testing[i])])==emoji.emojize(emote)):\n",
    "        count=count+1\n",
    "print(\"Total Right :\",count,\"Among :\",y_test.shape[0])"
   ]
  },
  {
   "cell_type": "code",
   "execution_count": 47,
   "id": "93569c79",
   "metadata": {},
   "outputs": [
    {
     "name": "stdout",
     "output_type": "stream",
     "text": [
      "[0.9285714030265808, 1.0, 1.0, 1.0, 1.0, 1.0, 1.0, 1.0, 1.0, 1.0]\n",
      "[1, 2, 3, 4, 5, 6, 7, 8, 9, 10]\n"
     ]
    },
    {
     "data": {
      "image/png": "[encoded data removed]",
      "text/plain": [
       "<Figure size 432x288 with 1 Axes>"
      ]
     },
     "metadata": {
      "needs_background": "light"
     },
     "output_type": "display_data"
    }
   ],
   "source": [
    "import matplotlib.pyplot as plt\n",
    "\n",
    "# Assuming acc_scores is a list of accuracy scores for each fold\n",
    "print(acc_scores)\n",
    "for i in range (0, len(acc_scores)):\n",
    "    acc_scores[i]=acc_scores[i]*100\n",
    "k_values = [i for i in range(1, len(acc_scores)+1)]\n",
    "print(k_values)\n",
    "\n",
    "# Plotting the accuracy scores vs k values\n",
    "plt.plot(k_values, acc_scores, marker='o')\n",
    "plt.xlabel('Value of k')\n",
    "plt.ylabel('Accuracy Score')\n",
    "plt.title('Accuracy Scores vs K values')\n",
    "plt.show()"
   ]
  },
  {
   "cell_type": "code",
   "execution_count": null,
   "id": "d64d1d8e",
   "metadata": {},
   "outputs": [],
   "source": []
  }
 ],
 "metadata": {
  "kernelspec": {
   "display_name": "Python 3 (ipykernel)",
   "language": "python",
   "name": "python3"
  },
  "language_info": {
   "codemirror_mode": {
    "name": "ipython",
    "version": 3
   },
   "file_extension": ".py",
   "mimetype": "text/x-python",
   "name": "python",
   "nbconvert_exporter": "python",
   "pygments_lexer": "ipython3",
   "version": "3.9.12"
  }
 },
 "nbformat": 4,
 "nbformat_minor": 5
}
